{
  "nbformat": 4,
  "nbformat_minor": 0,
  "metadata": {
    "colab": {
      "provenance": [],
      "include_colab_link": true
    },
    "kernelspec": {
      "name": "python3",
      "display_name": "Python 3"
    },
    "language_info": {
      "name": "python"
    },
    "accelerator": "GPU",
    "gpuClass": "standard"
  },
  "cells": [
    {
      "cell_type": "markdown",
      "metadata": {
        "id": "view-in-github",
        "colab_type": "text"
      },
      "source": [
        "<a href=\"https://colab.research.google.com/github/TasneemVKhan/Banglore-Housing-Price-Prediction/blob/master/Untitled0.ipynb\" target=\"_parent\"><img src=\"https://colab.research.google.com/assets/colab-badge.svg\" alt=\"Open In Colab\"/></a>"
      ]
    },
    {
      "cell_type": "code",
      "execution_count": null,
      "metadata": {
        "id": "TRBk5VqiADep"
      },
      "outputs": [],
      "source": [
        "from google.colab import drive\n",
        "drive.mount('/content/drive')"
      ]
    },
    {
      "cell_type": "code",
      "source": [
        "%cd /content/drive/.shortcut-targets-by-id/127lKBWRbnF47UN44tkFJrXtJkQsb8vrI/PaddleOCR-2.6.0"
      ],
      "metadata": {
        "colab": {
          "base_uri": "https://localhost:8080/"
        },
        "id": "TuwCzJdQBFbO",
        "outputId": "43cb0873-aa8c-4f02-c503-926463011eab"
      },
      "execution_count": 2,
      "outputs": [
        {
          "output_type": "stream",
          "name": "stdout",
          "text": [
            "/content/drive/.shortcut-targets-by-id/127lKBWRbnF47UN44tkFJrXtJkQsb8vrI/PaddleOCR-2.6.0\n"
          ]
        }
      ]
    },
    {
      "cell_type": "code",
      "source": [
        "!pwd"
      ],
      "metadata": {
        "colab": {
          "base_uri": "https://localhost:8080/"
        },
        "id": "-hYxK9N_BHIe",
        "outputId": "9f7e9414-48f8-4e3b-be33-ade237992b49"
      },
      "execution_count": 3,
      "outputs": [
        {
          "output_type": "stream",
          "name": "stdout",
          "text": [
            "/content/drive/.shortcut-targets-by-id/127lKBWRbnF47UN44tkFJrXtJkQsb8vrI/PaddleOCR-2.6.0\n"
          ]
        }
      ]
    },
    {
      "cell_type": "code",
      "source": [
        "!pip install paddlenlp"
      ],
      "metadata": {
        "colab": {
          "base_uri": "https://localhost:8080/"
        },
        "id": "yoSZHQbIBshb",
        "outputId": "24ad9d95-f219-4346-f228-d553033da4e2"
      },
      "execution_count": 4,
      "outputs": [
        {
          "output_type": "stream",
          "name": "stdout",
          "text": [
            "Looking in indexes: https://pypi.org/simple, https://us-python.pkg.dev/colab-wheels/public/simple/\n",
            "Requirement already satisfied: paddlenlp in /usr/local/lib/python3.8/dist-packages (2.5.0)\n",
            "Requirement already satisfied: visualdl in /usr/local/lib/python3.8/dist-packages (from paddlenlp) (2.5.0)\n",
            "Requirement already satisfied: dill<0.3.5 in /usr/local/lib/python3.8/dist-packages (from paddlenlp) (0.3.4)\n",
            "Requirement already satisfied: datasets>=2.0.0 in /usr/local/lib/python3.8/dist-packages (from paddlenlp) (2.9.0)\n",
            "Requirement already satisfied: fastapi in /usr/local/lib/python3.8/dist-packages (from paddlenlp) (0.91.0)\n",
            "Requirement already satisfied: paddle2onnx in /usr/local/lib/python3.8/dist-packages (from paddlenlp) (1.0.5)\n",
            "Requirement already satisfied: uvicorn in /usr/local/lib/python3.8/dist-packages (from paddlenlp) (0.20.0)\n",
            "Requirement already satisfied: tqdm in /usr/local/lib/python3.8/dist-packages (from paddlenlp) (4.64.1)\n",
            "Requirement already satisfied: colorlog in /usr/local/lib/python3.8/dist-packages (from paddlenlp) (6.7.0)\n",
            "Requirement already satisfied: paddlefsl in /usr/local/lib/python3.8/dist-packages (from paddlenlp) (1.1.0)\n",
            "Requirement already satisfied: multiprocess<=0.70.12.2 in /usr/local/lib/python3.8/dist-packages (from paddlenlp) (0.70.12.2)\n",
            "Requirement already satisfied: sentencepiece in /usr/local/lib/python3.8/dist-packages (from paddlenlp) (0.1.97)\n",
            "Requirement already satisfied: huggingface-hub>=0.11.1 in /usr/local/lib/python3.8/dist-packages (from paddlenlp) (0.12.0)\n",
            "Requirement already satisfied: protobuf<=3.20.0,>=3.1.0 in /usr/local/lib/python3.8/dist-packages (from paddlenlp) (3.19.6)\n",
            "Requirement already satisfied: typer in /usr/local/lib/python3.8/dist-packages (from paddlenlp) (0.7.0)\n",
            "Requirement already satisfied: colorama in /usr/local/lib/python3.8/dist-packages (from paddlenlp) (0.4.6)\n",
            "Requirement already satisfied: rich in /usr/local/lib/python3.8/dist-packages (from paddlenlp) (13.3.1)\n",
            "Requirement already satisfied: jieba in /usr/local/lib/python3.8/dist-packages (from paddlenlp) (0.42.1)\n",
            "Requirement already satisfied: seqeval in /usr/local/lib/python3.8/dist-packages (from paddlenlp) (1.2.2)\n",
            "Requirement already satisfied: fsspec[http]>=2021.11.1 in /usr/local/lib/python3.8/dist-packages (from datasets>=2.0.0->paddlenlp) (2023.1.0)\n",
            "Requirement already satisfied: responses<0.19 in /usr/local/lib/python3.8/dist-packages (from datasets>=2.0.0->paddlenlp) (0.18.0)\n",
            "Requirement already satisfied: packaging in /usr/local/lib/python3.8/dist-packages (from datasets>=2.0.0->paddlenlp) (23.0)\n",
            "Requirement already satisfied: pyyaml>=5.1 in /usr/local/lib/python3.8/dist-packages (from datasets>=2.0.0->paddlenlp) (6.0)\n",
            "Requirement already satisfied: numpy>=1.17 in /usr/local/lib/python3.8/dist-packages (from datasets>=2.0.0->paddlenlp) (1.21.6)\n",
            "Requirement already satisfied: aiohttp in /usr/local/lib/python3.8/dist-packages (from datasets>=2.0.0->paddlenlp) (3.8.3)\n",
            "Requirement already satisfied: xxhash in /usr/local/lib/python3.8/dist-packages (from datasets>=2.0.0->paddlenlp) (3.2.0)\n",
            "Requirement already satisfied: requests>=2.19.0 in /usr/local/lib/python3.8/dist-packages (from datasets>=2.0.0->paddlenlp) (2.25.1)\n",
            "Requirement already satisfied: pyarrow>=6.0.0 in /usr/local/lib/python3.8/dist-packages (from datasets>=2.0.0->paddlenlp) (9.0.0)\n",
            "Requirement already satisfied: pandas in /usr/local/lib/python3.8/dist-packages (from datasets>=2.0.0->paddlenlp) (1.3.5)\n",
            "Requirement already satisfied: filelock in /usr/local/lib/python3.8/dist-packages (from huggingface-hub>=0.11.1->paddlenlp) (3.9.0)\n",
            "Requirement already satisfied: typing-extensions>=3.7.4.3 in /usr/local/lib/python3.8/dist-packages (from huggingface-hub>=0.11.1->paddlenlp) (4.4.0)\n",
            "Requirement already satisfied: starlette<0.25.0,>=0.24.0 in /usr/local/lib/python3.8/dist-packages (from fastapi->paddlenlp) (0.24.0)\n",
            "Requirement already satisfied: pydantic!=1.7,!=1.7.1,!=1.7.2,!=1.7.3,!=1.8,!=1.8.1,<2.0.0,>=1.6.2 in /usr/local/lib/python3.8/dist-packages (from fastapi->paddlenlp) (1.10.4)\n",
            "Requirement already satisfied: markdown-it-py<3.0.0,>=2.1.0 in /usr/local/lib/python3.8/dist-packages (from rich->paddlenlp) (2.1.0)\n",
            "Requirement already satisfied: pygments<3.0.0,>=2.14.0 in /usr/local/lib/python3.8/dist-packages (from rich->paddlenlp) (2.14.0)\n",
            "Requirement already satisfied: scikit-learn>=0.21.3 in /usr/local/lib/python3.8/dist-packages (from seqeval->paddlenlp) (1.0.2)\n",
            "Requirement already satisfied: click<9.0.0,>=7.1.1 in /usr/local/lib/python3.8/dist-packages (from typer->paddlenlp) (8.1.3)\n",
            "Requirement already satisfied: h11>=0.8 in /usr/local/lib/python3.8/dist-packages (from uvicorn->paddlenlp) (0.14.0)\n",
            "Requirement already satisfied: gradio in /usr/local/lib/python3.8/dist-packages (from visualdl->paddlenlp) (3.18.0)\n",
            "Requirement already satisfied: psutil in /usr/local/lib/python3.8/dist-packages (from visualdl->paddlenlp) (5.4.8)\n",
            "Requirement already satisfied: rarfile in /usr/local/lib/python3.8/dist-packages (from visualdl->paddlenlp) (4.0)\n",
            "Requirement already satisfied: Flask-Babel>=3.0.0 in /usr/local/lib/python3.8/dist-packages (from visualdl->paddlenlp) (3.0.1)\n",
            "Requirement already satisfied: onnx>=1.6.0 in /usr/local/lib/python3.8/dist-packages (from visualdl->paddlenlp) (1.12.0)\n",
            "Requirement already satisfied: six>=1.14.0 in /usr/local/lib/python3.8/dist-packages (from visualdl->paddlenlp) (1.15.0)\n",
            "Requirement already satisfied: attrdict in /usr/local/lib/python3.8/dist-packages (from visualdl->paddlenlp) (2.0.1)\n",
            "Requirement already satisfied: bce-python-sdk in /usr/local/lib/python3.8/dist-packages (from visualdl->paddlenlp) (0.8.79)\n",
            "Requirement already satisfied: tritonclient[all] in /usr/local/lib/python3.8/dist-packages (from visualdl->paddlenlp) (2.30.0)\n",
            "Requirement already satisfied: Pillow>=7.0.0 in /usr/local/lib/python3.8/dist-packages (from visualdl->paddlenlp) (7.1.2)\n",
            "Requirement already satisfied: x2paddle in /usr/local/lib/python3.8/dist-packages (from visualdl->paddlenlp) (1.4.0)\n",
            "Requirement already satisfied: flask>=1.1.1 in /usr/local/lib/python3.8/dist-packages (from visualdl->paddlenlp) (2.2.2)\n",
            "Requirement already satisfied: matplotlib in /usr/local/lib/python3.8/dist-packages (from visualdl->paddlenlp) (3.2.2)\n",
            "Requirement already satisfied: Werkzeug>=2.2.2 in /usr/local/lib/python3.8/dist-packages (from flask>=1.1.1->visualdl->paddlenlp) (2.2.2)\n",
            "Requirement already satisfied: Jinja2>=3.0 in /usr/local/lib/python3.8/dist-packages (from flask>=1.1.1->visualdl->paddlenlp) (3.1.2)\n",
            "Requirement already satisfied: itsdangerous>=2.0 in /usr/local/lib/python3.8/dist-packages (from flask>=1.1.1->visualdl->paddlenlp) (2.1.2)\n",
            "Requirement already satisfied: importlib-metadata>=3.6.0 in /usr/local/lib/python3.8/dist-packages (from flask>=1.1.1->visualdl->paddlenlp) (6.0.0)\n",
            "Requirement already satisfied: pytz<2023.0,>=2022.7 in /usr/local/lib/python3.8/dist-packages (from Flask-Babel>=3.0.0->visualdl->paddlenlp) (2022.7.1)\n",
            "Requirement already satisfied: Babel<3.0.0,>=2.11.0 in /usr/local/lib/python3.8/dist-packages (from Flask-Babel>=3.0.0->visualdl->paddlenlp) (2.11.0)\n",
            "Requirement already satisfied: attrs>=17.3.0 in /usr/local/lib/python3.8/dist-packages (from aiohttp->datasets>=2.0.0->paddlenlp) (22.2.0)\n",
            "Requirement already satisfied: multidict<7.0,>=4.5 in /usr/local/lib/python3.8/dist-packages (from aiohttp->datasets>=2.0.0->paddlenlp) (6.0.4)\n",
            "Requirement already satisfied: charset-normalizer<3.0,>=2.0 in /usr/local/lib/python3.8/dist-packages (from aiohttp->datasets>=2.0.0->paddlenlp) (2.1.1)\n",
            "Requirement already satisfied: async-timeout<5.0,>=4.0.0a3 in /usr/local/lib/python3.8/dist-packages (from aiohttp->datasets>=2.0.0->paddlenlp) (4.0.2)\n",
            "Requirement already satisfied: yarl<2.0,>=1.0 in /usr/local/lib/python3.8/dist-packages (from aiohttp->datasets>=2.0.0->paddlenlp) (1.8.2)\n",
            "Requirement already satisfied: aiosignal>=1.1.2 in /usr/local/lib/python3.8/dist-packages (from aiohttp->datasets>=2.0.0->paddlenlp) (1.3.1)\n",
            "Requirement already satisfied: frozenlist>=1.1.1 in /usr/local/lib/python3.8/dist-packages (from aiohttp->datasets>=2.0.0->paddlenlp) (1.3.3)\n",
            "Requirement already satisfied: mdurl~=0.1 in /usr/local/lib/python3.8/dist-packages (from markdown-it-py<3.0.0,>=2.1.0->rich->paddlenlp) (0.1.2)\n",
            "Requirement already satisfied: certifi>=2017.4.17 in /usr/local/lib/python3.8/dist-packages (from requests>=2.19.0->datasets>=2.0.0->paddlenlp) (2022.12.7)\n",
            "Requirement already satisfied: chardet<5,>=3.0.2 in /usr/local/lib/python3.8/dist-packages (from requests>=2.19.0->datasets>=2.0.0->paddlenlp) (4.0.0)\n",
            "Requirement already satisfied: urllib3<1.27,>=1.21.1 in /usr/local/lib/python3.8/dist-packages (from requests>=2.19.0->datasets>=2.0.0->paddlenlp) (1.26.14)\n",
            "Requirement already satisfied: idna<3,>=2.5 in /usr/local/lib/python3.8/dist-packages (from requests>=2.19.0->datasets>=2.0.0->paddlenlp) (2.10)\n",
            "Requirement already satisfied: scipy>=1.1.0 in /usr/local/lib/python3.8/dist-packages (from scikit-learn>=0.21.3->seqeval->paddlenlp) (1.7.3)\n",
            "Requirement already satisfied: joblib>=0.11 in /usr/local/lib/python3.8/dist-packages (from scikit-learn>=0.21.3->seqeval->paddlenlp) (1.2.0)\n",
            "Requirement already satisfied: threadpoolctl>=2.0.0 in /usr/local/lib/python3.8/dist-packages (from scikit-learn>=0.21.3->seqeval->paddlenlp) (3.1.0)\n",
            "Requirement already satisfied: anyio<5,>=3.4.0 in /usr/local/lib/python3.8/dist-packages (from starlette<0.25.0,>=0.24.0->fastapi->paddlenlp) (3.6.2)\n",
            "Requirement already satisfied: future>=0.6.0 in /usr/local/lib/python3.8/dist-packages (from bce-python-sdk->visualdl->paddlenlp) (0.16.0)\n",
            "Requirement already satisfied: pycryptodome>=3.8.0 in /usr/local/lib/python3.8/dist-packages (from bce-python-sdk->visualdl->paddlenlp) (3.17)\n",
            "Requirement already satisfied: altair>=4.2.0 in /usr/local/lib/python3.8/dist-packages (from gradio->visualdl->paddlenlp) (4.2.2)\n",
            "Requirement already satisfied: aiofiles in /usr/local/lib/python3.8/dist-packages (from gradio->visualdl->paddlenlp) (23.1.0)\n",
            "Requirement already satisfied: pydub in /usr/local/lib/python3.8/dist-packages (from gradio->visualdl->paddlenlp) (0.25.1)\n",
            "Requirement already satisfied: python-multipart in /usr/local/lib/python3.8/dist-packages (from gradio->visualdl->paddlenlp) (0.0.5)\n",
            "Requirement already satisfied: websockets>=10.0 in /usr/local/lib/python3.8/dist-packages (from gradio->visualdl->paddlenlp) (10.4)\n",
            "Requirement already satisfied: markupsafe in /usr/local/lib/python3.8/dist-packages (from gradio->visualdl->paddlenlp) (2.1.2)\n",
            "Requirement already satisfied: orjson in /usr/local/lib/python3.8/dist-packages (from gradio->visualdl->paddlenlp) (3.8.6)\n",
            "Requirement already satisfied: httpx in /usr/local/lib/python3.8/dist-packages (from gradio->visualdl->paddlenlp) (0.23.3)\n",
            "Requirement already satisfied: ffmpy in /usr/local/lib/python3.8/dist-packages (from gradio->visualdl->paddlenlp) (0.3.0)\n",
            "Requirement already satisfied: python-dateutil>=2.1 in /usr/local/lib/python3.8/dist-packages (from matplotlib->visualdl->paddlenlp) (2.8.2)\n",
            "Requirement already satisfied: kiwisolver>=1.0.1 in /usr/local/lib/python3.8/dist-packages (from matplotlib->visualdl->paddlenlp) (1.4.4)\n",
            "Requirement already satisfied: pyparsing!=2.0.4,!=2.1.2,!=2.1.6,>=2.0.1 in /usr/local/lib/python3.8/dist-packages (from matplotlib->visualdl->paddlenlp) (3.0.9)\n",
            "Requirement already satisfied: cycler>=0.10 in /usr/local/lib/python3.8/dist-packages (from matplotlib->visualdl->paddlenlp) (0.11.0)\n",
            "Requirement already satisfied: python-rapidjson>=0.9.1 in /usr/local/lib/python3.8/dist-packages (from tritonclient[all]->visualdl->paddlenlp) (1.9)\n",
            "Requirement already satisfied: grpcio>=1.41.0 in /usr/local/lib/python3.8/dist-packages (from tritonclient[all]->visualdl->paddlenlp) (1.51.1)\n",
            "Requirement already satisfied: geventhttpclient<=2.0.2,>=1.4.4 in /usr/local/lib/python3.8/dist-packages (from tritonclient[all]->visualdl->paddlenlp) (2.0.2)\n",
            "Requirement already satisfied: sympy in /usr/local/lib/python3.8/dist-packages (from x2paddle->visualdl->paddlenlp) (1.7.1)\n",
            "Requirement already satisfied: toolz in /usr/local/lib/python3.8/dist-packages (from altair>=4.2.0->gradio->visualdl->paddlenlp) (0.12.0)\n",
            "Requirement already satisfied: jsonschema>=3.0 in /usr/local/lib/python3.8/dist-packages (from altair>=4.2.0->gradio->visualdl->paddlenlp) (4.3.3)\n",
            "Requirement already satisfied: entrypoints in /usr/local/lib/python3.8/dist-packages (from altair>=4.2.0->gradio->visualdl->paddlenlp) (0.4)\n",
            "Requirement already satisfied: sniffio>=1.1 in /usr/local/lib/python3.8/dist-packages (from anyio<5,>=3.4.0->starlette<0.25.0,>=0.24.0->fastapi->paddlenlp) (1.3.0)\n",
            "Requirement already satisfied: brotli in /usr/local/lib/python3.8/dist-packages (from geventhttpclient<=2.0.2,>=1.4.4->tritonclient[all]->visualdl->paddlenlp) (1.0.9)\n",
            "Requirement already satisfied: gevent>=0.13 in /usr/local/lib/python3.8/dist-packages (from geventhttpclient<=2.0.2,>=1.4.4->tritonclient[all]->visualdl->paddlenlp) (22.10.2)\n",
            "Requirement already satisfied: zipp>=0.5 in /usr/local/lib/python3.8/dist-packages (from importlib-metadata>=3.6.0->flask>=1.1.1->visualdl->paddlenlp) (3.12.1)\n",
            "Requirement already satisfied: mdit-py-plugins in /usr/local/lib/python3.8/dist-packages (from markdown-it-py<3.0.0,>=2.1.0->rich->paddlenlp) (0.3.3)\n",
            "Requirement already satisfied: linkify-it-py~=1.0 in /usr/local/lib/python3.8/dist-packages (from markdown-it-py<3.0.0,>=2.1.0->rich->paddlenlp) (1.0.3)\n",
            "Requirement already satisfied: httpcore<0.17.0,>=0.15.0 in /usr/local/lib/python3.8/dist-packages (from httpx->gradio->visualdl->paddlenlp) (0.16.3)\n",
            "Requirement already satisfied: rfc3986[idna2008]<2,>=1.3 in /usr/local/lib/python3.8/dist-packages (from httpx->gradio->visualdl->paddlenlp) (1.5.0)\n",
            "Requirement already satisfied: mpmath>=0.19 in /usr/local/lib/python3.8/dist-packages (from sympy->x2paddle->visualdl->paddlenlp) (1.2.1)\n",
            "Requirement already satisfied: zope.event in /usr/local/lib/python3.8/dist-packages (from gevent>=0.13->geventhttpclient<=2.0.2,>=1.4.4->tritonclient[all]->visualdl->paddlenlp) (4.6)\n",
            "Requirement already satisfied: setuptools in /usr/local/lib/python3.8/dist-packages (from gevent>=0.13->geventhttpclient<=2.0.2,>=1.4.4->tritonclient[all]->visualdl->paddlenlp) (57.4.0)\n",
            "Requirement already satisfied: greenlet>=2.0.0 in /usr/local/lib/python3.8/dist-packages (from gevent>=0.13->geventhttpclient<=2.0.2,>=1.4.4->tritonclient[all]->visualdl->paddlenlp) (2.0.2)\n",
            "Requirement already satisfied: zope.interface in /usr/local/lib/python3.8/dist-packages (from gevent>=0.13->geventhttpclient<=2.0.2,>=1.4.4->tritonclient[all]->visualdl->paddlenlp) (5.5.2)\n",
            "Requirement already satisfied: pyrsistent!=0.17.0,!=0.17.1,!=0.17.2,>=0.14.0 in /usr/local/lib/python3.8/dist-packages (from jsonschema>=3.0->altair>=4.2.0->gradio->visualdl->paddlenlp) (0.19.3)\n",
            "Requirement already satisfied: importlib-resources>=1.4.0 in /usr/local/lib/python3.8/dist-packages (from jsonschema>=3.0->altair>=4.2.0->gradio->visualdl->paddlenlp) (5.10.2)\n",
            "Requirement already satisfied: uc-micro-py in /usr/local/lib/python3.8/dist-packages (from linkify-it-py~=1.0->markdown-it-py<3.0.0,>=2.1.0->rich->paddlenlp) (1.0.1)\n"
          ]
        }
      ]
    },
    {
      "cell_type": "code",
      "source": [
        "!pip install torch==1.12.1+cu102 torchvision==0.13.1+cu102 torchaudio==0.12.1 --extra-index-url https://download.pytorch.org/whl/cu102"
      ],
      "metadata": {
        "id": "zvbxpt54BmbG",
        "colab": {
          "base_uri": "https://localhost:8080/"
        },
        "outputId": "71ffd464-40c4-4c37-ca11-bd0ff6768c59"
      },
      "execution_count": 5,
      "outputs": [
        {
          "output_type": "stream",
          "name": "stdout",
          "text": [
            "Looking in indexes: https://pypi.org/simple, https://us-python.pkg.dev/colab-wheels/public/simple/, https://download.pytorch.org/whl/cu102\n",
            "Requirement already satisfied: torch==1.12.1+cu102 in /usr/local/lib/python3.8/dist-packages (1.12.1+cu102)\n",
            "Requirement already satisfied: torchvision==0.13.1+cu102 in /usr/local/lib/python3.8/dist-packages (0.13.1+cu102)\n",
            "Requirement already satisfied: torchaudio==0.12.1 in /usr/local/lib/python3.8/dist-packages (0.12.1+cu102)\n",
            "Requirement already satisfied: typing-extensions in /usr/local/lib/python3.8/dist-packages (from torch==1.12.1+cu102) (4.4.0)\n",
            "Requirement already satisfied: pillow!=8.3.*,>=5.3.0 in /usr/local/lib/python3.8/dist-packages (from torchvision==0.13.1+cu102) (7.1.2)\n",
            "Requirement already satisfied: requests in /usr/local/lib/python3.8/dist-packages (from torchvision==0.13.1+cu102) (2.25.1)\n",
            "Requirement already satisfied: numpy in /usr/local/lib/python3.8/dist-packages (from torchvision==0.13.1+cu102) (1.21.6)\n",
            "Requirement already satisfied: urllib3<1.27,>=1.21.1 in /usr/local/lib/python3.8/dist-packages (from requests->torchvision==0.13.1+cu102) (1.26.14)\n",
            "Requirement already satisfied: idna<3,>=2.5 in /usr/local/lib/python3.8/dist-packages (from requests->torchvision==0.13.1+cu102) (2.10)\n",
            "Requirement already satisfied: certifi>=2017.4.17 in /usr/local/lib/python3.8/dist-packages (from requests->torchvision==0.13.1+cu102) (2022.12.7)\n",
            "Requirement already satisfied: chardet<5,>=3.0.2 in /usr/local/lib/python3.8/dist-packages (from requests->torchvision==0.13.1+cu102) (4.0.0)\n"
          ]
        }
      ]
    },
    {
      "cell_type": "code",
      "source": [
        "!python -m pip install paddlepaddle-gpu==2.3.1 -i https://mirror.baidu.com/pypi/simple"
      ],
      "metadata": {
        "id": "lSeeWVXZByU9",
        "colab": {
          "base_uri": "https://localhost:8080/"
        },
        "outputId": "c316cf5d-1090-4e48-cec8-7bc167632591"
      },
      "execution_count": 6,
      "outputs": [
        {
          "output_type": "stream",
          "name": "stdout",
          "text": [
            "Looking in indexes: https://mirror.baidu.com/pypi/simple, https://us-python.pkg.dev/colab-wheels/public/simple/\n",
            "Requirement already satisfied: paddlepaddle-gpu==2.3.1 in /usr/local/lib/python3.8/dist-packages (2.3.1)\n",
            "Requirement already satisfied: decorator in /usr/local/lib/python3.8/dist-packages (from paddlepaddle-gpu==2.3.1) (4.4.2)\n",
            "Requirement already satisfied: astor in /usr/local/lib/python3.8/dist-packages (from paddlepaddle-gpu==2.3.1) (0.8.1)\n",
            "Requirement already satisfied: numpy>=1.13 in /usr/local/lib/python3.8/dist-packages (from paddlepaddle-gpu==2.3.1) (1.21.6)\n",
            "Requirement already satisfied: protobuf<=3.20.0,>=3.1.0 in /usr/local/lib/python3.8/dist-packages (from paddlepaddle-gpu==2.3.1) (3.19.6)\n",
            "Requirement already satisfied: requests>=2.20.0 in /usr/local/lib/python3.8/dist-packages (from paddlepaddle-gpu==2.3.1) (2.25.1)\n",
            "Requirement already satisfied: six in /usr/local/lib/python3.8/dist-packages (from paddlepaddle-gpu==2.3.1) (1.15.0)\n",
            "Requirement already satisfied: opt-einsum==3.3.0 in /usr/local/lib/python3.8/dist-packages (from paddlepaddle-gpu==2.3.1) (3.3.0)\n",
            "Requirement already satisfied: Pillow in /usr/local/lib/python3.8/dist-packages (from paddlepaddle-gpu==2.3.1) (7.1.2)\n",
            "Requirement already satisfied: paddle-bfloat==0.1.7 in /usr/local/lib/python3.8/dist-packages (from paddlepaddle-gpu==2.3.1) (0.1.7)\n",
            "Requirement already satisfied: certifi>=2017.4.17 in /usr/local/lib/python3.8/dist-packages (from requests>=2.20.0->paddlepaddle-gpu==2.3.1) (2022.12.7)\n",
            "Requirement already satisfied: chardet<5,>=3.0.2 in /usr/local/lib/python3.8/dist-packages (from requests>=2.20.0->paddlepaddle-gpu==2.3.1) (4.0.0)\n",
            "Requirement already satisfied: urllib3<1.27,>=1.21.1 in /usr/local/lib/python3.8/dist-packages (from requests>=2.20.0->paddlepaddle-gpu==2.3.1) (1.26.14)\n",
            "Requirement already satisfied: idna<3,>=2.5 in /usr/local/lib/python3.8/dist-packages (from requests>=2.20.0->paddlepaddle-gpu==2.3.1) (2.10)\n"
          ]
        }
      ]
    },
    {
      "cell_type": "code",
      "source": [
        "import torch\n",
        "torch.cuda.is_available()"
      ],
      "metadata": {
        "id": "xYm4vEfaB7CQ",
        "colab": {
          "base_uri": "https://localhost:8080/"
        },
        "outputId": "3acd98e2-ce41-4b1a-a5fd-cb7651a4afcc"
      },
      "execution_count": null,
      "outputs": [
        {
          "output_type": "execute_result",
          "data": {
            "text/plain": [
              "True"
            ]
          },
          "metadata": {},
          "execution_count": 5
        }
      ]
    },
    {
      "cell_type": "code",
      "source": [
        "print(torch.__version__) "
      ],
      "metadata": {
        "id": "mBxiLF55B9Cp",
        "colab": {
          "base_uri": "https://localhost:8080/"
        },
        "outputId": "32143aff-4611-4f91-9103-97d1a536b836"
      },
      "execution_count": null,
      "outputs": [
        {
          "output_type": "stream",
          "name": "stdout",
          "text": [
            "1.12.1+cu102\n"
          ]
        }
      ]
    },
    {
      "cell_type": "code",
      "source": [
        " print(torch.__config__.show())"
      ],
      "metadata": {
        "id": "b3KVL3mrB-iG",
        "colab": {
          "base_uri": "https://localhost:8080/"
        },
        "outputId": "2a046b48-02a5-4149-aeb4-ab8de447a661"
      },
      "execution_count": null,
      "outputs": [
        {
          "output_type": "stream",
          "name": "stdout",
          "text": [
            "PyTorch built with:\n",
            "  - GCC 7.3\n",
            "  - C++ Version: 201402\n",
            "  - Intel(R) Math Kernel Library Version 2020.0.0 Product Build 20191122 for Intel(R) 64 architecture applications\n",
            "  - Intel(R) MKL-DNN v2.6.0 (Git Hash 52b5f107dd9cf10910aaa19cb47f3abf9b349815)\n",
            "  - OpenMP 201511 (a.k.a. OpenMP 4.5)\n",
            "  - LAPACK is enabled (usually provided by MKL)\n",
            "  - NNPACK is enabled\n",
            "  - CPU capability usage: AVX2\n",
            "  - CUDA Runtime 10.2\n",
            "  - NVCC architecture flags: -gencode;arch=compute_37,code=sm_37;-gencode;arch=compute_50,code=sm_50;-gencode;arch=compute_60,code=sm_60;-gencode;arch=compute_70,code=sm_70\n",
            "  - CuDNN 7.6.5\n",
            "  - Magma 2.5.2\n",
            "  - Build settings: BLAS_INFO=mkl, BUILD_TYPE=Release, CUDA_VERSION=10.2, CUDNN_VERSION=7.6.5, CXX_COMPILER=/opt/rh/devtoolset-7/root/usr/bin/c++, CXX_FLAGS= -fabi-version=11 -Wno-deprecated -fvisibility-inlines-hidden -DUSE_PTHREADPOOL -fopenmp -DNDEBUG -DUSE_KINETO -DUSE_FBGEMM -DUSE_QNNPACK -DUSE_PYTORCH_QNNPACK -DUSE_XNNPACK -DSYMBOLICATE_MOBILE_DEBUG_HANDLE -DEDGE_PROFILER_USE_KINETO -O2 -fPIC -Wno-narrowing -Wall -Wextra -Werror=return-type -Wno-missing-field-initializers -Wno-type-limits -Wno-array-bounds -Wno-unknown-pragmas -Wno-unused-parameter -Wno-unused-function -Wno-unused-result -Wno-unused-local-typedefs -Wno-strict-overflow -Wno-strict-aliasing -Wno-error=deprecated-declarations -Wno-stringop-overflow -Wno-psabi -Wno-error=pedantic -Wno-error=redundant-decls -Wno-error=old-style-cast -fdiagnostics-color=always -faligned-new -Wno-unused-but-set-variable -Wno-maybe-uninitialized -fno-math-errno -fno-trapping-math -Werror=format -Wno-stringop-overflow, LAPACK_INFO=mkl, PERF_WITH_AVX=1, PERF_WITH_AVX2=1, PERF_WITH_AVX512=1, TORCH_VERSION=1.12.1, USE_CUDA=ON, USE_CUDNN=ON, USE_EXCEPTION_PTR=1, USE_GFLAGS=OFF, USE_GLOG=OFF, USE_MKL=ON, USE_MKLDNN=OFF, USE_MPI=OFF, USE_NCCL=ON, USE_NNPACK=ON, USE_OPENMP=ON, USE_ROCM=OFF, \n",
            "\n"
          ]
        }
      ]
    },
    {
      "cell_type": "code",
      "source": [
        "!pip install -r requirements.txt"
      ],
      "metadata": {
        "id": "L3c94AwjCBfY",
        "colab": {
          "base_uri": "https://localhost:8080/"
        },
        "outputId": "cdf1e0c9-8be3-4aab-f65d-8c17c8bb3945"
      },
      "execution_count": null,
      "outputs": [
        {
          "output_type": "stream",
          "name": "stdout",
          "text": [
            "Looking in indexes: https://pypi.org/simple, https://us-python.pkg.dev/colab-wheels/public/simple/\n",
            "Requirement already satisfied: shapely in /usr/local/lib/python3.8/dist-packages (from -r requirements.txt (line 1)) (2.0.1)\n",
            "Requirement already satisfied: scikit-image in /usr/local/lib/python3.8/dist-packages (from -r requirements.txt (line 2)) (0.18.3)\n",
            "Requirement already satisfied: imgaug in /usr/local/lib/python3.8/dist-packages (from -r requirements.txt (line 3)) (0.4.0)\n",
            "Collecting pyclipper\n",
            "  Downloading pyclipper-1.3.0.post4-cp38-cp38-manylinux_2_5_x86_64.manylinux1_x86_64.whl (619 kB)\n",
            "\u001b[2K     \u001b[90m━━━━━━━━━━━━━━━━━━━━━━━━━━━━━━━━━━━━━━\u001b[0m \u001b[32m619.2/619.2 KB\u001b[0m \u001b[31m32.7 MB/s\u001b[0m eta \u001b[36m0:00:00\u001b[0m\n",
            "\u001b[?25hRequirement already satisfied: lmdb in /usr/local/lib/python3.8/dist-packages (from -r requirements.txt (line 5)) (0.99)\n",
            "Requirement already satisfied: tqdm in /usr/local/lib/python3.8/dist-packages (from -r requirements.txt (line 6)) (4.64.1)\n",
            "Requirement already satisfied: numpy in /usr/local/lib/python3.8/dist-packages (from -r requirements.txt (line 7)) (1.21.6)\n",
            "Requirement already satisfied: visualdl in /usr/local/lib/python3.8/dist-packages (from -r requirements.txt (line 8)) (2.5.0)\n",
            "Collecting rapidfuzz\n",
            "  Downloading rapidfuzz-2.13.7-cp38-cp38-manylinux_2_17_x86_64.manylinux2014_x86_64.whl (2.2 MB)\n",
            "\u001b[2K     \u001b[90m━━━━━━━━━━━━━━━━━━━━━━━━━━━━━━━━━━━━━━━━\u001b[0m \u001b[32m2.2/2.2 MB\u001b[0m \u001b[31m12.1 MB/s\u001b[0m eta \u001b[36m0:00:00\u001b[0m\n",
            "\u001b[?25hCollecting opencv-contrib-python==4.4.0.46\n",
            "  Downloading opencv_contrib_python-4.4.0.46-cp38-cp38-manylinux2014_x86_64.whl (55.7 MB)\n",
            "\u001b[2K     \u001b[90m━━━━━━━━━━━━━━━━━━━━━━━━━━━━━━━━━━━━━━━━\u001b[0m \u001b[32m55.7/55.7 MB\u001b[0m \u001b[31m13.7 MB/s\u001b[0m eta \u001b[36m0:00:00\u001b[0m\n",
            "\u001b[?25hRequirement already satisfied: cython in /usr/local/lib/python3.8/dist-packages (from -r requirements.txt (line 11)) (0.29.33)\n",
            "Requirement already satisfied: lxml in /usr/local/lib/python3.8/dist-packages (from -r requirements.txt (line 12)) (4.9.2)\n",
            "Collecting premailer\n",
            "  Downloading premailer-3.10.0-py2.py3-none-any.whl (19 kB)\n",
            "Requirement already satisfied: openpyxl in /usr/local/lib/python3.8/dist-packages (from -r requirements.txt (line 14)) (3.0.10)\n",
            "Requirement already satisfied: attrdict in /usr/local/lib/python3.8/dist-packages (from -r requirements.txt (line 15)) (2.0.1)\n",
            "Requirement already satisfied: PyWavelets>=1.1.1 in /usr/local/lib/python3.8/dist-packages (from scikit-image->-r requirements.txt (line 2)) (1.4.1)\n",
            "Requirement already satisfied: networkx>=2.0 in /usr/local/lib/python3.8/dist-packages (from scikit-image->-r requirements.txt (line 2)) (3.0)\n",
            "Requirement already satisfied: scipy>=1.0.1 in /usr/local/lib/python3.8/dist-packages (from scikit-image->-r requirements.txt (line 2)) (1.7.3)\n",
            "Requirement already satisfied: pillow!=7.1.0,!=7.1.1,>=4.3.0 in /usr/local/lib/python3.8/dist-packages (from scikit-image->-r requirements.txt (line 2)) (7.1.2)\n",
            "Requirement already satisfied: imageio>=2.3.0 in /usr/local/lib/python3.8/dist-packages (from scikit-image->-r requirements.txt (line 2)) (2.9.0)\n",
            "Requirement already satisfied: matplotlib!=3.0.0,>=2.0.0 in /usr/local/lib/python3.8/dist-packages (from scikit-image->-r requirements.txt (line 2)) (3.2.2)\n",
            "Requirement already satisfied: tifffile>=2019.7.26 in /usr/local/lib/python3.8/dist-packages (from scikit-image->-r requirements.txt (line 2)) (2023.2.3)\n",
            "Requirement already satisfied: opencv-python in /usr/local/lib/python3.8/dist-packages (from imgaug->-r requirements.txt (line 3)) (4.6.0.66)\n",
            "Requirement already satisfied: six in /usr/local/lib/python3.8/dist-packages (from imgaug->-r requirements.txt (line 3)) (1.15.0)\n",
            "Requirement already satisfied: pandas in /usr/local/lib/python3.8/dist-packages (from visualdl->-r requirements.txt (line 8)) (1.3.5)\n",
            "Requirement already satisfied: rarfile in /usr/local/lib/python3.8/dist-packages (from visualdl->-r requirements.txt (line 8)) (4.0)\n",
            "Requirement already satisfied: multiprocess in /usr/local/lib/python3.8/dist-packages (from visualdl->-r requirements.txt (line 8)) (0.70.12.2)\n",
            "Requirement already satisfied: protobuf>=3.11.0 in /usr/local/lib/python3.8/dist-packages (from visualdl->-r requirements.txt (line 8)) (3.19.6)\n",
            "Requirement already satisfied: packaging in /usr/local/lib/python3.8/dist-packages (from visualdl->-r requirements.txt (line 8)) (23.0)\n",
            "Requirement already satisfied: bce-python-sdk in /usr/local/lib/python3.8/dist-packages (from visualdl->-r requirements.txt (line 8)) (0.8.79)\n",
            "Requirement already satisfied: flask>=1.1.1 in /usr/local/lib/python3.8/dist-packages (from visualdl->-r requirements.txt (line 8)) (2.2.2)\n",
            "Requirement already satisfied: x2paddle in /usr/local/lib/python3.8/dist-packages (from visualdl->-r requirements.txt (line 8)) (1.4.0)\n",
            "Requirement already satisfied: requests in /usr/local/lib/python3.8/dist-packages (from visualdl->-r requirements.txt (line 8)) (2.25.1)\n",
            "Requirement already satisfied: tritonclient[all] in /usr/local/lib/python3.8/dist-packages (from visualdl->-r requirements.txt (line 8)) (2.30.0)\n",
            "Requirement already satisfied: onnx>=1.6.0 in /usr/local/lib/python3.8/dist-packages (from visualdl->-r requirements.txt (line 8)) (1.12.0)\n",
            "Requirement already satisfied: gradio in /usr/local/lib/python3.8/dist-packages (from visualdl->-r requirements.txt (line 8)) (3.18.0)\n",
            "Requirement already satisfied: psutil in /usr/local/lib/python3.8/dist-packages (from visualdl->-r requirements.txt (line 8)) (5.4.8)\n",
            "Requirement already satisfied: Flask-Babel>=3.0.0 in /usr/local/lib/python3.8/dist-packages (from visualdl->-r requirements.txt (line 8)) (3.0.1)\n",
            "Requirement already satisfied: cachetools in /usr/local/lib/python3.8/dist-packages (from premailer->-r requirements.txt (line 13)) (5.3.0)\n",
            "Collecting cssutils\n",
            "  Downloading cssutils-2.6.0-py3-none-any.whl (399 kB)\n",
            "\u001b[2K     \u001b[90m━━━━━━━━━━━━━━━━━━━━━━━━━━━━━━━━━━━━━━\u001b[0m \u001b[32m399.7/399.7 KB\u001b[0m \u001b[31m43.7 MB/s\u001b[0m eta \u001b[36m0:00:00\u001b[0m\n",
            "\u001b[?25hCollecting cssselect\n",
            "  Downloading cssselect-1.2.0-py2.py3-none-any.whl (18 kB)\n",
            "Requirement already satisfied: et-xmlfile in /usr/local/lib/python3.8/dist-packages (from openpyxl->-r requirements.txt (line 14)) (1.1.0)\n",
            "Requirement already satisfied: click>=8.0 in /usr/local/lib/python3.8/dist-packages (from flask>=1.1.1->visualdl->-r requirements.txt (line 8)) (8.1.3)\n",
            "Requirement already satisfied: Werkzeug>=2.2.2 in /usr/local/lib/python3.8/dist-packages (from flask>=1.1.1->visualdl->-r requirements.txt (line 8)) (2.2.2)\n",
            "Requirement already satisfied: importlib-metadata>=3.6.0 in /usr/local/lib/python3.8/dist-packages (from flask>=1.1.1->visualdl->-r requirements.txt (line 8)) (6.0.0)\n",
            "Requirement already satisfied: itsdangerous>=2.0 in /usr/local/lib/python3.8/dist-packages (from flask>=1.1.1->visualdl->-r requirements.txt (line 8)) (2.1.2)\n",
            "Requirement already satisfied: Jinja2>=3.0 in /usr/local/lib/python3.8/dist-packages (from flask>=1.1.1->visualdl->-r requirements.txt (line 8)) (3.1.2)\n",
            "Requirement already satisfied: Babel<3.0.0,>=2.11.0 in /usr/local/lib/python3.8/dist-packages (from Flask-Babel>=3.0.0->visualdl->-r requirements.txt (line 8)) (2.11.0)\n",
            "Requirement already satisfied: pytz<2023.0,>=2022.7 in /usr/local/lib/python3.8/dist-packages (from Flask-Babel>=3.0.0->visualdl->-r requirements.txt (line 8)) (2022.7.1)\n",
            "Requirement already satisfied: cycler>=0.10 in /usr/local/lib/python3.8/dist-packages (from matplotlib!=3.0.0,>=2.0.0->scikit-image->-r requirements.txt (line 2)) (0.11.0)\n",
            "Requirement already satisfied: python-dateutil>=2.1 in /usr/local/lib/python3.8/dist-packages (from matplotlib!=3.0.0,>=2.0.0->scikit-image->-r requirements.txt (line 2)) (2.8.2)\n",
            "Requirement already satisfied: pyparsing!=2.0.4,!=2.1.2,!=2.1.6,>=2.0.1 in /usr/local/lib/python3.8/dist-packages (from matplotlib!=3.0.0,>=2.0.0->scikit-image->-r requirements.txt (line 2)) (3.0.9)\n",
            "Requirement already satisfied: kiwisolver>=1.0.1 in /usr/local/lib/python3.8/dist-packages (from matplotlib!=3.0.0,>=2.0.0->scikit-image->-r requirements.txt (line 2)) (1.4.4)\n",
            "Requirement already satisfied: typing-extensions>=3.6.2.1 in /usr/local/lib/python3.8/dist-packages (from onnx>=1.6.0->visualdl->-r requirements.txt (line 8)) (4.4.0)\n",
            "Requirement already satisfied: pycryptodome>=3.8.0 in /usr/local/lib/python3.8/dist-packages (from bce-python-sdk->visualdl->-r requirements.txt (line 8)) (3.17)\n",
            "Requirement already satisfied: future>=0.6.0 in /usr/local/lib/python3.8/dist-packages (from bce-python-sdk->visualdl->-r requirements.txt (line 8)) (0.16.0)\n",
            "Requirement already satisfied: orjson in /usr/local/lib/python3.8/dist-packages (from gradio->visualdl->-r requirements.txt (line 8)) (3.8.6)\n",
            "Requirement already satisfied: aiohttp in /usr/local/lib/python3.8/dist-packages (from gradio->visualdl->-r requirements.txt (line 8)) (3.8.3)\n",
            "Requirement already satisfied: fastapi in /usr/local/lib/python3.8/dist-packages (from gradio->visualdl->-r requirements.txt (line 8)) (0.91.0)\n",
            "Requirement already satisfied: aiofiles in /usr/local/lib/python3.8/dist-packages (from gradio->visualdl->-r requirements.txt (line 8)) (23.1.0)\n",
            "Requirement already satisfied: websockets>=10.0 in /usr/local/lib/python3.8/dist-packages (from gradio->visualdl->-r requirements.txt (line 8)) (10.4)\n",
            "Requirement already satisfied: fsspec in /usr/local/lib/python3.8/dist-packages (from gradio->visualdl->-r requirements.txt (line 8)) (2023.1.0)\n",
            "Requirement already satisfied: altair>=4.2.0 in /usr/local/lib/python3.8/dist-packages (from gradio->visualdl->-r requirements.txt (line 8)) (4.2.2)\n",
            "Requirement already satisfied: ffmpy in /usr/local/lib/python3.8/dist-packages (from gradio->visualdl->-r requirements.txt (line 8)) (0.3.0)\n",
            "Requirement already satisfied: pyyaml in /usr/local/lib/python3.8/dist-packages (from gradio->visualdl->-r requirements.txt (line 8)) (6.0)\n",
            "Requirement already satisfied: markdown-it-py[linkify,plugins]>=2.0.0 in /usr/local/lib/python3.8/dist-packages (from gradio->visualdl->-r requirements.txt (line 8)) (2.1.0)\n",
            "Requirement already satisfied: markupsafe in /usr/local/lib/python3.8/dist-packages (from gradio->visualdl->-r requirements.txt (line 8)) (2.1.2)\n",
            "Requirement already satisfied: python-multipart in /usr/local/lib/python3.8/dist-packages (from gradio->visualdl->-r requirements.txt (line 8)) (0.0.5)\n",
            "Requirement already satisfied: uvicorn in /usr/local/lib/python3.8/dist-packages (from gradio->visualdl->-r requirements.txt (line 8)) (0.20.0)\n",
            "Requirement already satisfied: pydub in /usr/local/lib/python3.8/dist-packages (from gradio->visualdl->-r requirements.txt (line 8)) (0.25.1)\n",
            "Requirement already satisfied: httpx in /usr/local/lib/python3.8/dist-packages (from gradio->visualdl->-r requirements.txt (line 8)) (0.23.3)\n",
            "Requirement already satisfied: pydantic in /usr/local/lib/python3.8/dist-packages (from gradio->visualdl->-r requirements.txt (line 8)) (1.10.4)\n",
            "Requirement already satisfied: dill>=0.3.4 in /usr/local/lib/python3.8/dist-packages (from multiprocess->visualdl->-r requirements.txt (line 8)) (0.3.4)\n",
            "Requirement already satisfied: certifi>=2017.4.17 in /usr/local/lib/python3.8/dist-packages (from requests->visualdl->-r requirements.txt (line 8)) (2022.12.7)\n",
            "Requirement already satisfied: chardet<5,>=3.0.2 in /usr/local/lib/python3.8/dist-packages (from requests->visualdl->-r requirements.txt (line 8)) (4.0.0)\n",
            "Requirement already satisfied: urllib3<1.27,>=1.21.1 in /usr/local/lib/python3.8/dist-packages (from requests->visualdl->-r requirements.txt (line 8)) (1.26.14)\n",
            "Requirement already satisfied: idna<3,>=2.5 in /usr/local/lib/python3.8/dist-packages (from requests->visualdl->-r requirements.txt (line 8)) (2.10)\n",
            "Requirement already satisfied: python-rapidjson>=0.9.1 in /usr/local/lib/python3.8/dist-packages (from tritonclient[all]->visualdl->-r requirements.txt (line 8)) (1.9)\n",
            "Requirement already satisfied: grpcio>=1.41.0 in /usr/local/lib/python3.8/dist-packages (from tritonclient[all]->visualdl->-r requirements.txt (line 8)) (1.51.1)\n",
            "Requirement already satisfied: geventhttpclient<=2.0.2,>=1.4.4 in /usr/local/lib/python3.8/dist-packages (from tritonclient[all]->visualdl->-r requirements.txt (line 8)) (2.0.2)\n",
            "Requirement already satisfied: sympy in /usr/local/lib/python3.8/dist-packages (from x2paddle->visualdl->-r requirements.txt (line 8)) (1.7.1)\n",
            "Requirement already satisfied: async-timeout<5.0,>=4.0.0a3 in /usr/local/lib/python3.8/dist-packages (from aiohttp->gradio->visualdl->-r requirements.txt (line 8)) (4.0.2)\n",
            "Requirement already satisfied: attrs>=17.3.0 in /usr/local/lib/python3.8/dist-packages (from aiohttp->gradio->visualdl->-r requirements.txt (line 8)) (22.2.0)\n",
            "Requirement already satisfied: charset-normalizer<3.0,>=2.0 in /usr/local/lib/python3.8/dist-packages (from aiohttp->gradio->visualdl->-r requirements.txt (line 8)) (2.1.1)\n",
            "Requirement already satisfied: frozenlist>=1.1.1 in /usr/local/lib/python3.8/dist-packages (from aiohttp->gradio->visualdl->-r requirements.txt (line 8)) (1.3.3)\n",
            "Requirement already satisfied: yarl<2.0,>=1.0 in /usr/local/lib/python3.8/dist-packages (from aiohttp->gradio->visualdl->-r requirements.txt (line 8)) (1.8.2)\n",
            "Requirement already satisfied: aiosignal>=1.1.2 in /usr/local/lib/python3.8/dist-packages (from aiohttp->gradio->visualdl->-r requirements.txt (line 8)) (1.3.1)\n",
            "Requirement already satisfied: multidict<7.0,>=4.5 in /usr/local/lib/python3.8/dist-packages (from aiohttp->gradio->visualdl->-r requirements.txt (line 8)) (6.0.4)\n",
            "Requirement already satisfied: jsonschema>=3.0 in /usr/local/lib/python3.8/dist-packages (from altair>=4.2.0->gradio->visualdl->-r requirements.txt (line 8)) (4.3.3)\n",
            "Requirement already satisfied: toolz in /usr/local/lib/python3.8/dist-packages (from altair>=4.2.0->gradio->visualdl->-r requirements.txt (line 8)) (0.12.0)\n",
            "Requirement already satisfied: entrypoints in /usr/local/lib/python3.8/dist-packages (from altair>=4.2.0->gradio->visualdl->-r requirements.txt (line 8)) (0.4)\n",
            "Requirement already satisfied: brotli in /usr/local/lib/python3.8/dist-packages (from geventhttpclient<=2.0.2,>=1.4.4->tritonclient[all]->visualdl->-r requirements.txt (line 8)) (1.0.9)\n",
            "Requirement already satisfied: gevent>=0.13 in /usr/local/lib/python3.8/dist-packages (from geventhttpclient<=2.0.2,>=1.4.4->tritonclient[all]->visualdl->-r requirements.txt (line 8)) (22.10.2)\n",
            "Requirement already satisfied: zipp>=0.5 in /usr/local/lib/python3.8/dist-packages (from importlib-metadata>=3.6.0->flask>=1.1.1->visualdl->-r requirements.txt (line 8)) (3.12.1)\n",
            "Requirement already satisfied: mdurl~=0.1 in /usr/local/lib/python3.8/dist-packages (from markdown-it-py[linkify,plugins]>=2.0.0->gradio->visualdl->-r requirements.txt (line 8)) (0.1.2)\n",
            "Requirement already satisfied: mdit-py-plugins in /usr/local/lib/python3.8/dist-packages (from markdown-it-py[linkify,plugins]>=2.0.0->gradio->visualdl->-r requirements.txt (line 8)) (0.3.3)\n",
            "Requirement already satisfied: linkify-it-py~=1.0 in /usr/local/lib/python3.8/dist-packages (from markdown-it-py[linkify,plugins]>=2.0.0->gradio->visualdl->-r requirements.txt (line 8)) (1.0.3)\n",
            "Requirement already satisfied: starlette<0.25.0,>=0.24.0 in /usr/local/lib/python3.8/dist-packages (from fastapi->gradio->visualdl->-r requirements.txt (line 8)) (0.24.0)\n",
            "Requirement already satisfied: rfc3986[idna2008]<2,>=1.3 in /usr/local/lib/python3.8/dist-packages (from httpx->gradio->visualdl->-r requirements.txt (line 8)) (1.5.0)\n",
            "Requirement already satisfied: httpcore<0.17.0,>=0.15.0 in /usr/local/lib/python3.8/dist-packages (from httpx->gradio->visualdl->-r requirements.txt (line 8)) (0.16.3)\n",
            "Requirement already satisfied: sniffio in /usr/local/lib/python3.8/dist-packages (from httpx->gradio->visualdl->-r requirements.txt (line 8)) (1.3.0)\n",
            "Requirement already satisfied: mpmath>=0.19 in /usr/local/lib/python3.8/dist-packages (from sympy->x2paddle->visualdl->-r requirements.txt (line 8)) (1.2.1)\n",
            "Requirement already satisfied: h11>=0.8 in /usr/local/lib/python3.8/dist-packages (from uvicorn->gradio->visualdl->-r requirements.txt (line 8)) (0.14.0)\n",
            "Requirement already satisfied: setuptools in /usr/local/lib/python3.8/dist-packages (from gevent>=0.13->geventhttpclient<=2.0.2,>=1.4.4->tritonclient[all]->visualdl->-r requirements.txt (line 8)) (57.4.0)\n",
            "Requirement already satisfied: zope.event in /usr/local/lib/python3.8/dist-packages (from gevent>=0.13->geventhttpclient<=2.0.2,>=1.4.4->tritonclient[all]->visualdl->-r requirements.txt (line 8)) (4.6)\n",
            "Requirement already satisfied: zope.interface in /usr/local/lib/python3.8/dist-packages (from gevent>=0.13->geventhttpclient<=2.0.2,>=1.4.4->tritonclient[all]->visualdl->-r requirements.txt (line 8)) (5.5.2)\n",
            "Requirement already satisfied: greenlet>=2.0.0 in /usr/local/lib/python3.8/dist-packages (from gevent>=0.13->geventhttpclient<=2.0.2,>=1.4.4->tritonclient[all]->visualdl->-r requirements.txt (line 8)) (2.0.2)\n",
            "Requirement already satisfied: anyio<5.0,>=3.0 in /usr/local/lib/python3.8/dist-packages (from httpcore<0.17.0,>=0.15.0->httpx->gradio->visualdl->-r requirements.txt (line 8)) (3.6.2)\n",
            "Requirement already satisfied: pyrsistent!=0.17.0,!=0.17.1,!=0.17.2,>=0.14.0 in /usr/local/lib/python3.8/dist-packages (from jsonschema>=3.0->altair>=4.2.0->gradio->visualdl->-r requirements.txt (line 8)) (0.19.3)\n",
            "Requirement already satisfied: importlib-resources>=1.4.0 in /usr/local/lib/python3.8/dist-packages (from jsonschema>=3.0->altair>=4.2.0->gradio->visualdl->-r requirements.txt (line 8)) (5.10.2)\n",
            "Requirement already satisfied: uc-micro-py in /usr/local/lib/python3.8/dist-packages (from linkify-it-py~=1.0->markdown-it-py[linkify,plugins]>=2.0.0->gradio->visualdl->-r requirements.txt (line 8)) (1.0.1)\n",
            "Installing collected packages: pyclipper, rapidfuzz, opencv-contrib-python, cssutils, cssselect, premailer\n",
            "  Attempting uninstall: opencv-contrib-python\n",
            "    Found existing installation: opencv-contrib-python 4.6.0.66\n",
            "    Uninstalling opencv-contrib-python-4.6.0.66:\n",
            "      Successfully uninstalled opencv-contrib-python-4.6.0.66\n",
            "Successfully installed cssselect-1.2.0 cssutils-2.6.0 opencv-contrib-python-4.4.0.46 premailer-3.10.0 pyclipper-1.3.0.post4 rapidfuzz-2.13.7\n"
          ]
        }
      ]
    },
    {
      "cell_type": "code",
      "source": [
        "!python3 tools/train.py -c configs/kie/vi_layoutxlm/ser_vi_layoutxlm_xfund_zh.yml "
      ],
      "metadata": {
        "id": "zj_shYt2CETP",
        "colab": {
          "base_uri": "https://localhost:8080/"
        },
        "outputId": "a7d93862-83b8-4141-bc56-68d07567d506"
      },
      "execution_count": null,
      "outputs": [
        {
          "output_type": "stream",
          "name": "stdout",
          "text": [
            "[2023/02/11 19:58:07] ppocr INFO: Architecture : \n",
            "[2023/02/11 19:58:07] ppocr INFO:     Backbone : \n",
            "[2023/02/11 19:58:07] ppocr INFO:         checkpoints : None\n",
            "[2023/02/11 19:58:07] ppocr INFO:         mode : vi\n",
            "[2023/02/11 19:58:07] ppocr INFO:         name : LayoutXLMForSer\n",
            "[2023/02/11 19:58:07] ppocr INFO:         num_classes : 7\n",
            "[2023/02/11 19:58:07] ppocr INFO:         pretrained : True\n",
            "[2023/02/11 19:58:07] ppocr INFO:     Transform : None\n",
            "[2023/02/11 19:58:07] ppocr INFO:     algorithm : LayoutXLM\n",
            "[2023/02/11 19:58:07] ppocr INFO:     model_type : kie\n",
            "[2023/02/11 19:58:07] ppocr INFO: Eval : \n",
            "[2023/02/11 19:58:07] ppocr INFO:     dataset : \n",
            "[2023/02/11 19:58:07] ppocr INFO:         data_dir : train_data/kie_try/TC50/val/images\n",
            "[2023/02/11 19:58:07] ppocr INFO:         label_file_list : ['train_data/kie_try/TC50/val/val.json']\n",
            "[2023/02/11 19:58:07] ppocr INFO:         name : SimpleDataSet\n",
            "[2023/02/11 19:58:07] ppocr INFO:         transforms : \n",
            "[2023/02/11 19:58:07] ppocr INFO:             DecodeImage : \n",
            "[2023/02/11 19:58:07] ppocr INFO:                 channel_first : False\n",
            "[2023/02/11 19:58:07] ppocr INFO:                 img_mode : RGB\n",
            "[2023/02/11 19:58:07] ppocr INFO:             VQATokenLabelEncode : \n",
            "[2023/02/11 19:58:07] ppocr INFO:                 algorithm : LayoutXLM\n",
            "[2023/02/11 19:58:07] ppocr INFO:                 class_path : train_data/XFUND/class_list_xfun.txt\n",
            "[2023/02/11 19:58:07] ppocr INFO:                 contains_re : False\n",
            "[2023/02/11 19:58:07] ppocr INFO:                 order_method : tb-yx\n",
            "[2023/02/11 19:58:07] ppocr INFO:                 use_textline_bbox_info : True\n",
            "[2023/02/11 19:58:07] ppocr INFO:             VQATokenPad : \n",
            "[2023/02/11 19:58:07] ppocr INFO:                 max_seq_len : 512\n",
            "[2023/02/11 19:58:07] ppocr INFO:                 return_attention_mask : True\n",
            "[2023/02/11 19:58:07] ppocr INFO:             VQASerTokenChunk : \n",
            "[2023/02/11 19:58:07] ppocr INFO:                 max_seq_len : 512\n",
            "[2023/02/11 19:58:07] ppocr INFO:             Resize : \n",
            "[2023/02/11 19:58:07] ppocr INFO:                 size : [224, 224]\n",
            "[2023/02/11 19:58:07] ppocr INFO:             NormalizeImage : \n",
            "[2023/02/11 19:58:07] ppocr INFO:                 mean : [123.675, 116.28, 103.53]\n",
            "[2023/02/11 19:58:07] ppocr INFO:                 order : hwc\n",
            "[2023/02/11 19:58:07] ppocr INFO:                 scale : 1\n",
            "[2023/02/11 19:58:07] ppocr INFO:                 std : [58.395, 57.12, 57.375]\n",
            "[2023/02/11 19:58:07] ppocr INFO:             ToCHWImage : None\n",
            "[2023/02/11 19:58:07] ppocr INFO:             KeepKeys : \n",
            "[2023/02/11 19:58:07] ppocr INFO:                 keep_keys : ['input_ids', 'bbox', 'attention_mask', 'token_type_ids', 'image', 'labels']\n",
            "[2023/02/11 19:58:07] ppocr INFO:     loader : \n",
            "[2023/02/11 19:58:07] ppocr INFO:         batch_size_per_card : 8\n",
            "[2023/02/11 19:58:07] ppocr INFO:         drop_last : False\n",
            "[2023/02/11 19:58:07] ppocr INFO:         num_workers : 4\n",
            "[2023/02/11 19:58:07] ppocr INFO:         shuffle : False\n",
            "[2023/02/11 19:58:07] ppocr INFO: Global : \n",
            "[2023/02/11 19:58:07] ppocr INFO:     cal_metric_during_train : False\n",
            "[2023/02/11 19:58:07] ppocr INFO:     distributed : False\n",
            "[2023/02/11 19:58:07] ppocr INFO:     epoch_num : 200\n",
            "[2023/02/11 19:58:07] ppocr INFO:     eval_batch_step : [0, 5]\n",
            "[2023/02/11 19:58:07] ppocr INFO:     infer_img : ppstructure/docs/kie/input/zh_val_42.jpg\n",
            "[2023/02/11 19:58:07] ppocr INFO:     kie_det_model_dir : None\n",
            "[2023/02/11 19:58:07] ppocr INFO:     kie_rec_model_dir : None\n",
            "[2023/02/11 19:58:07] ppocr INFO:     log_smooth_window : 10\n",
            "[2023/02/11 19:58:07] ppocr INFO:     print_batch_step : 10\n",
            "[2023/02/11 19:58:07] ppocr INFO:     save_epoch_step : 10\n",
            "[2023/02/11 19:58:07] ppocr INFO:     save_inference_dir : None\n",
            "[2023/02/11 19:58:07] ppocr INFO:     save_model_dir : ./output/ser_vi_layoutxlm_xfund_zh\n",
            "[2023/02/11 19:58:07] ppocr INFO:     save_res_path : ./output/ser/xfund_zh/res\n",
            "[2023/02/11 19:58:07] ppocr INFO:     seed : 42\n",
            "[2023/02/11 19:58:07] ppocr INFO:     use_gpu : True\n",
            "[2023/02/11 19:58:07] ppocr INFO:     use_visualdl : False\n",
            "[2023/02/11 19:58:07] ppocr INFO: Loss : \n",
            "[2023/02/11 19:58:07] ppocr INFO:     key : backbone_out\n",
            "[2023/02/11 19:58:07] ppocr INFO:     name : VQASerTokenLayoutLMLoss\n",
            "[2023/02/11 19:58:07] ppocr INFO:     num_classes : 7\n",
            "[2023/02/11 19:58:07] ppocr INFO: Metric : \n",
            "[2023/02/11 19:58:07] ppocr INFO:     main_indicator : hmean\n",
            "[2023/02/11 19:58:07] ppocr INFO:     name : VQASerTokenMetric\n",
            "[2023/02/11 19:58:07] ppocr INFO: Optimizer : \n",
            "[2023/02/11 19:58:07] ppocr INFO:     beta1 : 0.9\n",
            "[2023/02/11 19:58:07] ppocr INFO:     beta2 : 0.999\n",
            "[2023/02/11 19:58:07] ppocr INFO:     lr : \n",
            "[2023/02/11 19:58:07] ppocr INFO:         epochs : 200\n",
            "[2023/02/11 19:58:07] ppocr INFO:         learning_rate : 5e-05\n",
            "[2023/02/11 19:58:07] ppocr INFO:         name : Linear\n",
            "[2023/02/11 19:58:07] ppocr INFO:         warmup_epoch : 2\n",
            "[2023/02/11 19:58:07] ppocr INFO:     name : AdamW\n",
            "[2023/02/11 19:58:07] ppocr INFO:     regularizer : \n",
            "[2023/02/11 19:58:07] ppocr INFO:         factor : 0.0\n",
            "[2023/02/11 19:58:07] ppocr INFO:         name : L2\n",
            "[2023/02/11 19:58:07] ppocr INFO: PostProcess : \n",
            "[2023/02/11 19:58:07] ppocr INFO:     class_path : train_data/XFUND/class_list_xfun.txt\n",
            "[2023/02/11 19:58:07] ppocr INFO:     name : VQASerTokenLayoutLMPostProcess\n",
            "[2023/02/11 19:58:07] ppocr INFO: Train : \n",
            "[2023/02/11 19:58:07] ppocr INFO:     dataset : \n",
            "[2023/02/11 19:58:07] ppocr INFO:         data_dir : train_data/kie_try/TC50/train/images\n",
            "[2023/02/11 19:58:07] ppocr INFO:         label_file_list : ['train_data/kie_try/TC50/train/train.json']\n",
            "[2023/02/11 19:58:07] ppocr INFO:         name : SimpleDataSet\n",
            "[2023/02/11 19:58:07] ppocr INFO:         ratio_list : [1.0]\n",
            "[2023/02/11 19:58:07] ppocr INFO:         transforms : \n",
            "[2023/02/11 19:58:07] ppocr INFO:             DecodeImage : \n",
            "[2023/02/11 19:58:07] ppocr INFO:                 channel_first : False\n",
            "[2023/02/11 19:58:07] ppocr INFO:                 img_mode : RGB\n",
            "[2023/02/11 19:58:07] ppocr INFO:             VQATokenLabelEncode : \n",
            "[2023/02/11 19:58:07] ppocr INFO:                 algorithm : LayoutXLM\n",
            "[2023/02/11 19:58:07] ppocr INFO:                 class_path : train_data/XFUND/class_list_xfun.txt\n",
            "[2023/02/11 19:58:07] ppocr INFO:                 contains_re : False\n",
            "[2023/02/11 19:58:07] ppocr INFO:                 order_method : tb-yx\n",
            "[2023/02/11 19:58:07] ppocr INFO:                 use_textline_bbox_info : True\n",
            "[2023/02/11 19:58:07] ppocr INFO:             VQATokenPad : \n",
            "[2023/02/11 19:58:07] ppocr INFO:                 max_seq_len : 512\n",
            "[2023/02/11 19:58:07] ppocr INFO:                 return_attention_mask : True\n",
            "[2023/02/11 19:58:07] ppocr INFO:             VQASerTokenChunk : \n",
            "[2023/02/11 19:58:07] ppocr INFO:                 max_seq_len : 512\n",
            "[2023/02/11 19:58:07] ppocr INFO:             Resize : \n",
            "[2023/02/11 19:58:07] ppocr INFO:                 size : [224, 224]\n",
            "[2023/02/11 19:58:07] ppocr INFO:             NormalizeImage : \n",
            "[2023/02/11 19:58:07] ppocr INFO:                 mean : [123.675, 116.28, 103.53]\n",
            "[2023/02/11 19:58:07] ppocr INFO:                 order : hwc\n",
            "[2023/02/11 19:58:07] ppocr INFO:                 scale : 1\n",
            "[2023/02/11 19:58:07] ppocr INFO:                 std : [58.395, 57.12, 57.375]\n",
            "[2023/02/11 19:58:07] ppocr INFO:             ToCHWImage : None\n",
            "[2023/02/11 19:58:07] ppocr INFO:             KeepKeys : \n",
            "[2023/02/11 19:58:07] ppocr INFO:                 keep_keys : ['input_ids', 'bbox', 'attention_mask', 'token_type_ids', 'image', 'labels']\n",
            "[2023/02/11 19:58:07] ppocr INFO:     loader : \n",
            "[2023/02/11 19:58:07] ppocr INFO:         batch_size_per_card : 8\n",
            "[2023/02/11 19:58:07] ppocr INFO:         drop_last : False\n",
            "[2023/02/11 19:58:07] ppocr INFO:         num_workers : 4\n",
            "[2023/02/11 19:58:07] ppocr INFO:         shuffle : True\n",
            "[2023/02/11 19:58:07] ppocr INFO: profiler_options : None\n",
            "[2023/02/11 19:58:07] ppocr INFO: train with paddle 2.3.1 and device Place(gpu:0)\n",
            "[2023/02/11 19:58:07] ppocr INFO: Initialize indexs of datasets:['train_data/kie_try/TC50/train/train.json']\n",
            "\u001b[32m[2023-02-11 19:58:09,513] [    INFO]\u001b[0m - Already cached /root/.paddlenlp/models/layoutxlm-base-uncased/sentencepiece.bpe.model\u001b[0m\n",
            "\u001b[32m[2023-02-11 19:58:10,391] [    INFO]\u001b[0m - tokenizer config file saved in /root/.paddlenlp/models/layoutxlm-base-uncased/tokenizer_config.json\u001b[0m\n",
            "\u001b[32m[2023-02-11 19:58:10,392] [    INFO]\u001b[0m - Special tokens file saved in /root/.paddlenlp/models/layoutxlm-base-uncased/special_tokens_map.json\u001b[0m\n",
            "[2023/02/11 19:58:10] ppocr INFO: Initialize indexs of datasets:['train_data/kie_try/TC50/val/val.json']\n",
            "\u001b[32m[2023-02-11 19:58:10,397] [    INFO]\u001b[0m - Already cached /root/.paddlenlp/models/layoutxlm-base-uncased/sentencepiece.bpe.model\u001b[0m\n",
            "\u001b[32m[2023-02-11 19:58:11,088] [    INFO]\u001b[0m - tokenizer config file saved in /root/.paddlenlp/models/layoutxlm-base-uncased/tokenizer_config.json\u001b[0m\n",
            "\u001b[32m[2023-02-11 19:58:11,088] [    INFO]\u001b[0m - Special tokens file saved in /root/.paddlenlp/models/layoutxlm-base-uncased/special_tokens_map.json\u001b[0m\n",
            "\u001b[32m[2023-02-11 19:58:11,099] [    INFO]\u001b[0m - Already cached /root/.paddlenlp/models/vi-layoutxlm-base-uncased/model_state.pdparams\u001b[0m\n",
            "W0211 19:58:11.100996  3911 gpu_resources.cc:61] Please NOTE: device: 0, GPU Compute Capability: 7.5, Driver API Version: 11.6, Runtime API Version: 10.2\n",
            "W0211 19:58:11.106655  3911 gpu_resources.cc:91] device: 0, cuDNN Version: 8.4.\n",
            "[2023/02/11 19:58:14] ppocr INFO: train dataloader has 7 iters\n",
            "[2023/02/11 19:58:14] ppocr INFO: valid dataloader has 7 iters\n",
            "[2023/02/11 19:58:14] ppocr INFO: During the training process, after the 0th iteration, an evaluation is run every 5 iterations\n",
            "eval model:: 100% 7/7 [00:22<00:00,  3.16s/it]\n",
            "[2023/02/11 19:58:52] ppocr INFO: cur metric, precision: 0.11403508771929824, recall: 0.033357771260997066, hmean: 0.051616562677254674, fps: 23.24201115158866\n",
            "[2023/02/11 19:59:10] ppocr INFO: save best model is to ./output/ser_vi_layoutxlm_xfund_zh/best_accuracy\n",
            "[2023/02/11 19:59:10] ppocr INFO: best metric, hmean: 0.051616562677254674, precision: 0.11403508771929824, recall: 0.033357771260997066, fps: 23.24201115158866, best_epoch: 1\n",
            "[2023/02/11 19:59:11] ppocr INFO: epoch: [1/200], global_step: 7, lr: 0.000011, loss: 1.643749, avg_reader_cost: 0.52058 s, avg_batch_cost: 1.49467 s, avg_samples: 5.0, ips: 3.34522 samples/s, eta: 0:49:34\n",
            "[2023/02/11 19:59:28] ppocr INFO: save model in ./output/ser_vi_layoutxlm_xfund_zh/latest\n",
            "[2023/02/11 19:59:40] ppocr INFO: epoch: [2/200], global_step: 10, lr: 0.000016, loss: nanxxx, avg_reader_cost: 2.63140 s, avg_batch_cost: 2.80797 s, avg_samples: 2.4, ips: 0.85471 samples/s, eta: 1:39:40\n",
            "eval model:: 100% 7/7 [00:16<00:00,  2.40s/it]\n",
            "[2023/02/11 19:59:57] ppocr INFO: cur metric, precision: 0.0, recall: 0.0, hmean: 0.0, fps: 23.553906739354648\n",
            "[2023/02/11 19:59:57] ppocr INFO: best metric, hmean: 0.051616562677254674, precision: 0.11403508771929824, recall: 0.033357771260997066, fps: 23.24201115158866, best_epoch: 1\n",
            "[2023/02/11 19:59:59] ppocr INFO: epoch: [2/200], global_step: 14, lr: 0.000030, loss: nanxxx, avg_reader_cost: 0.00035 s, avg_batch_cost: 0.16430 s, avg_samples: 2.6, ips: 15.82453 samples/s, eta: 1:13:42\n"
          ]
        }
      ]
    },
    {
      "cell_type": "code",
      "source": [],
      "metadata": {
        "id": "S_HE1UT_jyWE"
      },
      "execution_count": null,
      "outputs": []
    }
  ]
}